{
  "cells": [
    {
      "cell_type": "markdown",
      "metadata": {
        "id": "view-in-github",
        "colab_type": "text"
      },
      "source": [
        "<a href=\"https://colab.research.google.com/github/Axle-Bucamp/Recomandation-System-Gan/blob/main/recomandation_system_CalculDiversityOverTime.ipynb\" target=\"_parent\"><img src=\"https://colab.research.google.com/assets/colab-badge.svg\" alt=\"Open In Colab\"/></a>"
      ]
    },
    {
      "cell_type": "code",
      "execution_count": null,
      "metadata": {
        "id": "YTAyixLt3-Gt",
        "outputId": "c2564996-1c97-4a0a-9591-e9fcc73b067e"
      },
      "outputs": [
        {
          "data": {
            "text/html": [
              "<div>\n",
              "<style scoped>\n",
              "    .dataframe tbody tr th:only-of-type {\n",
              "        vertical-align: middle;\n",
              "    }\n",
              "\n",
              "    .dataframe tbody tr th {\n",
              "        vertical-align: top;\n",
              "    }\n",
              "\n",
              "    .dataframe thead th {\n",
              "        text-align: right;\n",
              "    }\n",
              "</style>\n",
              "<table border=\"1\" class=\"dataframe\">\n",
              "  <thead>\n",
              "    <tr style=\"text-align: right;\">\n",
              "      <th></th>\n",
              "      <th>userId</th>\n",
              "      <th>movieId</th>\n",
              "      <th>rating</th>\n",
              "      <th>timestamp</th>\n",
              "    </tr>\n",
              "  </thead>\n",
              "  <tbody>\n",
              "    <tr>\n",
              "      <th>0</th>\n",
              "      <td>1</td>\n",
              "      <td>296</td>\n",
              "      <td>5.0</td>\n",
              "      <td>1147880044</td>\n",
              "    </tr>\n",
              "    <tr>\n",
              "      <th>1</th>\n",
              "      <td>1</td>\n",
              "      <td>306</td>\n",
              "      <td>3.5</td>\n",
              "      <td>1147868817</td>\n",
              "    </tr>\n",
              "    <tr>\n",
              "      <th>2</th>\n",
              "      <td>1</td>\n",
              "      <td>307</td>\n",
              "      <td>5.0</td>\n",
              "      <td>1147868828</td>\n",
              "    </tr>\n",
              "    <tr>\n",
              "      <th>3</th>\n",
              "      <td>1</td>\n",
              "      <td>665</td>\n",
              "      <td>5.0</td>\n",
              "      <td>1147878820</td>\n",
              "    </tr>\n",
              "    <tr>\n",
              "      <th>4</th>\n",
              "      <td>1</td>\n",
              "      <td>899</td>\n",
              "      <td>3.5</td>\n",
              "      <td>1147868510</td>\n",
              "    </tr>\n",
              "  </tbody>\n",
              "</table>\n",
              "</div>"
            ],
            "text/plain": [
              "   userId  movieId  rating   timestamp\n",
              "0       1      296     5.0  1147880044\n",
              "1       1      306     3.5  1147868817\n",
              "2       1      307     5.0  1147868828\n",
              "3       1      665     5.0  1147878820\n",
              "4       1      899     3.5  1147868510"
            ]
          },
          "execution_count": 121,
          "metadata": {},
          "output_type": "execute_result"
        }
      ],
      "source": [
        "import pandas as pd\n",
        "from datetime import date\n",
        "import datetime\n",
        "import numpy as np\n",
        "import h5py\n",
        "import tensorflow as tf\n",
        "from tensorflow import keras\n",
        "from ipywidgets import widgets\n",
        "import random\n",
        "\n",
        "user = pd.read_csv('ratings.csv')\n",
        "#m_cols = ['movie_id', 'title', 'release_date', 'video_release_date', 'imdb_url']\n",
        "#movie_name = pd.read_csv('u.item', sep='|', names=m_cols, usecols=range(5), encoding=\"iso-8859-1\")\n",
        "#id_select = user.copy()\n",
        "user = user.iloc[0:200000]\n",
        "user = user[user[\"movieId\"] < 13816]\n",
        "user.head()"
      ]
    },
    {
      "cell_type": "code",
      "execution_count": null,
      "metadata": {
        "id": "0ZYsE0PoisAe"
      },
      "outputs": [],
      "source": [
        "user[\"timestamp\"] = (user[\"timestamp\"] - user[\"timestamp\"].min()) \n",
        "user[\"timestamp\"] = user[\"timestamp\"] / user[\"timestamp\"].max()"
      ]
    },
    {
      "cell_type": "code",
      "execution_count": null,
      "metadata": {
        "id": "RbVrLrYl4NeR",
        "scrolled": true
      },
      "outputs": [],
      "source": [
        "table = pd.pivot_table(user, values='rating', index=['userId'],columns=['movieId'], aggfunc=np.sum)\n",
        "table_timestamp = pd.pivot_table(user, values='timestamp', index=['userId'],columns=['movieId'], aggfunc=np.sum)\n",
        "\n",
        "ZerosCol = table.isna().sum(axis = 0)\n",
        "ZerosRow = table.isna().sum(axis = 1)\n",
        "\n",
        "table = table.fillna(0)\n",
        "table_timestamp = table_timestamp.fillna(0)"
      ]
    },
    {
      "cell_type": "code",
      "execution_count": null,
      "metadata": {
        "id": "fg0EMV9hisAf",
        "outputId": "b1330ea2-3599-4fb6-c4f8-713636a832c9"
      },
      "outputs": [
        {
          "data": {
            "text/html": [
              "<div>\n",
              "<style scoped>\n",
              "    .dataframe tbody tr th:only-of-type {\n",
              "        vertical-align: middle;\n",
              "    }\n",
              "\n",
              "    .dataframe tbody tr th {\n",
              "        vertical-align: top;\n",
              "    }\n",
              "\n",
              "    .dataframe thead th {\n",
              "        text-align: right;\n",
              "    }\n",
              "</style>\n",
              "<table border=\"1\" class=\"dataframe\">\n",
              "  <thead>\n",
              "    <tr style=\"text-align: right;\">\n",
              "      <th>movieId</th>\n",
              "      <th>1</th>\n",
              "      <th>2</th>\n",
              "      <th>3</th>\n",
              "      <th>4</th>\n",
              "      <th>5</th>\n",
              "      <th>6</th>\n",
              "      <th>7</th>\n",
              "      <th>8</th>\n",
              "      <th>9</th>\n",
              "      <th>10</th>\n",
              "      <th>...</th>\n",
              "      <th>8994</th>\n",
              "      <th>8995</th>\n",
              "      <th>8997</th>\n",
              "      <th>8998</th>\n",
              "      <th>8999</th>\n",
              "      <th>9001</th>\n",
              "      <th>9004</th>\n",
              "      <th>9005</th>\n",
              "      <th>9010</th>\n",
              "      <th>9018</th>\n",
              "    </tr>\n",
              "    <tr>\n",
              "      <th>userId</th>\n",
              "      <th></th>\n",
              "      <th></th>\n",
              "      <th></th>\n",
              "      <th></th>\n",
              "      <th></th>\n",
              "      <th></th>\n",
              "      <th></th>\n",
              "      <th></th>\n",
              "      <th></th>\n",
              "      <th></th>\n",
              "      <th></th>\n",
              "      <th></th>\n",
              "      <th></th>\n",
              "      <th></th>\n",
              "      <th></th>\n",
              "      <th></th>\n",
              "      <th></th>\n",
              "      <th></th>\n",
              "      <th></th>\n",
              "      <th></th>\n",
              "      <th></th>\n",
              "    </tr>\n",
              "  </thead>\n",
              "  <tbody>\n",
              "    <tr>\n",
              "      <th>1</th>\n",
              "      <td>0.0</td>\n",
              "      <td>0.0</td>\n",
              "      <td>0.0</td>\n",
              "      <td>0.0</td>\n",
              "      <td>0.0</td>\n",
              "      <td>0.0</td>\n",
              "      <td>0.0</td>\n",
              "      <td>0.0</td>\n",
              "      <td>0.0</td>\n",
              "      <td>0.0</td>\n",
              "      <td>...</td>\n",
              "      <td>0.0</td>\n",
              "      <td>0.0</td>\n",
              "      <td>0.0</td>\n",
              "      <td>0.0</td>\n",
              "      <td>0.0</td>\n",
              "      <td>0.0</td>\n",
              "      <td>0.0</td>\n",
              "      <td>0.0</td>\n",
              "      <td>0.0</td>\n",
              "      <td>0.0</td>\n",
              "    </tr>\n",
              "    <tr>\n",
              "      <th>2</th>\n",
              "      <td>3.5</td>\n",
              "      <td>0.0</td>\n",
              "      <td>0.0</td>\n",
              "      <td>0.0</td>\n",
              "      <td>0.0</td>\n",
              "      <td>0.0</td>\n",
              "      <td>0.0</td>\n",
              "      <td>0.0</td>\n",
              "      <td>0.0</td>\n",
              "      <td>0.0</td>\n",
              "      <td>...</td>\n",
              "      <td>0.0</td>\n",
              "      <td>0.0</td>\n",
              "      <td>0.0</td>\n",
              "      <td>0.0</td>\n",
              "      <td>0.0</td>\n",
              "      <td>0.0</td>\n",
              "      <td>0.0</td>\n",
              "      <td>0.0</td>\n",
              "      <td>0.0</td>\n",
              "      <td>0.0</td>\n",
              "    </tr>\n",
              "    <tr>\n",
              "      <th>3</th>\n",
              "      <td>4.0</td>\n",
              "      <td>0.0</td>\n",
              "      <td>0.0</td>\n",
              "      <td>0.0</td>\n",
              "      <td>0.0</td>\n",
              "      <td>0.0</td>\n",
              "      <td>0.0</td>\n",
              "      <td>0.0</td>\n",
              "      <td>0.0</td>\n",
              "      <td>0.0</td>\n",
              "      <td>...</td>\n",
              "      <td>0.0</td>\n",
              "      <td>0.0</td>\n",
              "      <td>0.0</td>\n",
              "      <td>0.0</td>\n",
              "      <td>0.0</td>\n",
              "      <td>0.0</td>\n",
              "      <td>0.0</td>\n",
              "      <td>0.0</td>\n",
              "      <td>0.0</td>\n",
              "      <td>0.0</td>\n",
              "    </tr>\n",
              "    <tr>\n",
              "      <th>4</th>\n",
              "      <td>3.0</td>\n",
              "      <td>0.0</td>\n",
              "      <td>0.0</td>\n",
              "      <td>0.0</td>\n",
              "      <td>0.0</td>\n",
              "      <td>0.0</td>\n",
              "      <td>0.0</td>\n",
              "      <td>0.0</td>\n",
              "      <td>0.0</td>\n",
              "      <td>0.0</td>\n",
              "      <td>...</td>\n",
              "      <td>0.0</td>\n",
              "      <td>0.0</td>\n",
              "      <td>0.0</td>\n",
              "      <td>0.0</td>\n",
              "      <td>0.0</td>\n",
              "      <td>0.0</td>\n",
              "      <td>0.0</td>\n",
              "      <td>0.0</td>\n",
              "      <td>0.0</td>\n",
              "      <td>0.0</td>\n",
              "    </tr>\n",
              "    <tr>\n",
              "      <th>5</th>\n",
              "      <td>4.0</td>\n",
              "      <td>0.0</td>\n",
              "      <td>0.0</td>\n",
              "      <td>0.0</td>\n",
              "      <td>0.0</td>\n",
              "      <td>0.0</td>\n",
              "      <td>0.0</td>\n",
              "      <td>0.0</td>\n",
              "      <td>0.0</td>\n",
              "      <td>0.0</td>\n",
              "      <td>...</td>\n",
              "      <td>0.0</td>\n",
              "      <td>0.0</td>\n",
              "      <td>0.0</td>\n",
              "      <td>0.0</td>\n",
              "      <td>0.0</td>\n",
              "      <td>0.0</td>\n",
              "      <td>0.0</td>\n",
              "      <td>0.0</td>\n",
              "      <td>0.0</td>\n",
              "      <td>0.0</td>\n",
              "    </tr>\n",
              "  </tbody>\n",
              "</table>\n",
              "<p>5 rows × 6163 columns</p>\n",
              "</div>"
            ],
            "text/plain": [
              "movieId  1     2     3     4     5     6     7     8     9     10    ...  \\\n",
              "userId                                                               ...   \n",
              "1         0.0   0.0   0.0   0.0   0.0   0.0   0.0   0.0   0.0   0.0  ...   \n",
              "2         3.5   0.0   0.0   0.0   0.0   0.0   0.0   0.0   0.0   0.0  ...   \n",
              "3         4.0   0.0   0.0   0.0   0.0   0.0   0.0   0.0   0.0   0.0  ...   \n",
              "4         3.0   0.0   0.0   0.0   0.0   0.0   0.0   0.0   0.0   0.0  ...   \n",
              "5         4.0   0.0   0.0   0.0   0.0   0.0   0.0   0.0   0.0   0.0  ...   \n",
              "\n",
              "movieId  8994  8995  8997  8998  8999  9001  9004  9005  9010  9018  \n",
              "userId                                                               \n",
              "1         0.0   0.0   0.0   0.0   0.0   0.0   0.0   0.0   0.0   0.0  \n",
              "2         0.0   0.0   0.0   0.0   0.0   0.0   0.0   0.0   0.0   0.0  \n",
              "3         0.0   0.0   0.0   0.0   0.0   0.0   0.0   0.0   0.0   0.0  \n",
              "4         0.0   0.0   0.0   0.0   0.0   0.0   0.0   0.0   0.0   0.0  \n",
              "5         0.0   0.0   0.0   0.0   0.0   0.0   0.0   0.0   0.0   0.0  \n",
              "\n",
              "[5 rows x 6163 columns]"
            ]
          },
          "execution_count": 124,
          "metadata": {},
          "output_type": "execute_result"
        }
      ],
      "source": [
        "table.head()"
      ]
    },
    {
      "cell_type": "code",
      "execution_count": null,
      "metadata": {
        "id": "H2itWRPfisAf",
        "outputId": "dcf23a4a-d6e9-4987-f71f-3c260901f71c"
      },
      "outputs": [
        {
          "data": {
            "text/plain": [
              "userId\n",
              "1       0.0\n",
              "2       3.5\n",
              "3       4.0\n",
              "4       3.0\n",
              "5       4.0\n",
              "       ... \n",
              "1405    0.0\n",
              "1406    0.0\n",
              "1407    0.0\n",
              "1408    0.0\n",
              "1409    4.0\n",
              "Name: 1, Length: 1406, dtype: float64"
            ]
          },
          "execution_count": 125,
          "metadata": {},
          "output_type": "execute_result"
        }
      ],
      "source": [
        "table[1]"
      ]
    },
    {
      "cell_type": "code",
      "execution_count": null,
      "metadata": {
        "id": "jlvOEAkCisAg",
        "outputId": "d4025e8b-56d1-4569-b444-392dd3ce560f"
      },
      "outputs": [
        {
          "data": {
            "text/plain": [
              "array([0. , 3.5, 4. , ..., 0. , 0. , 4. ])"
            ]
          },
          "execution_count": 126,
          "metadata": {},
          "output_type": "execute_result"
        }
      ],
      "source": [
        "np.array(table)[:,0]"
      ]
    },
    {
      "cell_type": "code",
      "execution_count": null,
      "metadata": {
        "id": "mDyvDX3pisAg",
        "outputId": "54b77f22-f4f0-44b0-ce71-c8aaf959139d"
      },
      "outputs": [
        {
          "data": {
            "text/plain": [
              "(6163,)"
            ]
          },
          "execution_count": 127,
          "metadata": {},
          "output_type": "execute_result"
        }
      ],
      "source": [
        "np.unique(user[\"movieId\"]).shape"
      ]
    },
    {
      "cell_type": "code",
      "execution_count": null,
      "metadata": {
        "id": "Xku1AopV44L9"
      },
      "outputs": [],
      "source": [
        "model = tf.keras.models.load_model(\"Generator.h5\", compile=False)"
      ]
    },
    {
      "cell_type": "code",
      "execution_count": null,
      "metadata": {
        "id": "jDImUjM855d9"
      },
      "outputs": [],
      "source": [
        "UserRow = 128"
      ]
    },
    {
      "cell_type": "code",
      "execution_count": null,
      "metadata": {
        "id": "Jv2A16mOisAh"
      },
      "outputs": [],
      "source": [
        "genome_tag = pd.read_csv('../ml-25m/genome-scores.csv')\n",
        "genome_matrix = pd.pivot_table(genome_tag, values='relevance', index=['movieId'],columns=['tagId'], aggfunc=np.sum)"
      ]
    },
    {
      "cell_type": "code",
      "execution_count": null,
      "metadata": {
        "id": "5lGNUTtEisAh"
      },
      "outputs": [],
      "source": [
        "from scipy.spatial.distance import pdist\n",
        "def rel_proximity(movieList):\n",
        "    return np.mean(pdist(genome_matrix.iloc[movieList] , 'euclidean'))"
      ]
    },
    {
      "cell_type": "code",
      "execution_count": null,
      "metadata": {
        "id": "_xPG-T6B5jfb"
      },
      "outputs": [],
      "source": [
        "def create_input_matrix(choice,value):\n",
        "  number_of_rows = table.shape[0]\n",
        "  movielist = list(np.unique(user[\"movieId\"]))\n",
        "\n",
        "  final = choice.copy()\n",
        "  for x in choice :\n",
        "    if x in movielist:\n",
        "      movielist.remove(x)\n",
        "\n",
        "  movielist = np.array(movielist)\n",
        "  random_col = np.random.choice(movielist.shape[0] , size=128 - len(choice), replace=False)\n",
        "  random_col = [*movielist[random_col], *choice]\n",
        "\n",
        "  Xpred = table.copy()    \n",
        "  Xpred[:].iloc[0] = 0\n",
        "  Xpred[final].iloc[0] = value\n",
        "  \n",
        "  ligne_user = np.array(Xpred[random_col].iloc[0]).copy()\n",
        "\n",
        "  Xpred = Xpred[random_col]\n",
        "  Xpred = np.array(Xpred)\n",
        "\n",
        "  row = []\n",
        "  for i in range(number_of_rows) :\n",
        "    if np.sum(Xpred[i,:] > 0 ) > 10:\n",
        "      row.append(i)\n",
        "\n",
        "  while len(row) < 128:\n",
        "    row.append(random.randint(0, 943))\n",
        "    \n",
        "  random_row = np.random.choice(row, size=128, replace=False)\n",
        "  Xpred = Xpred[random_row,:]\n",
        "  Xpred[0,:] = ligne_user\n",
        "  #mean_matrix = np.ones((128,128)) * mean[random_col] \n",
        "\n",
        "  Xpred = Xpred.reshape(128,128,1)\n",
        "  time_table = table_timestamp[random_col]\n",
        "  time_table = time_table.iloc[random_row]\n",
        "  time_table = np.array(time_table)\n",
        "  time_table = time_table.reshape(128,128,1)\n",
        "\n",
        "  Xpred = np.concatenate([Xpred, time_table], axis=2)\n",
        "  Xpred = np.concatenate([Xpred, np.random.normal(0,1,128*128).reshape(128,128,1) * 0.1 ], axis=2) # mean_matrix.reshape(128,128,1) +\n",
        "\n",
        "  return Xpred, random_col\n"
      ]
    },
    {
      "cell_type": "code",
      "execution_count": null,
      "metadata": {
        "id": "7B7VOtEDisAi"
      },
      "outputs": [],
      "source": [
        "def prediction_call(model, choice, value):\n",
        "  xpred, rand_col = create_input_matrix(choice,value)\n",
        "  ypred = model(tf.convert_to_tensor(xpred.reshape(1,128,128,3).astype(float))).numpy().reshape(128,128)\n",
        "  max_indice = np.argpartition(ypred[0,:], -10)[-10:]\n",
        "  return rand_col[max_indice[0]], random.randint(3, 5),rel_proximity(np.array(rand_col)[max_indice])\n"
      ]
    },
    {
      "cell_type": "code",
      "execution_count": null,
      "metadata": {
        "scrolled": true,
        "id": "lhh_GHOqisAj",
        "outputId": "40660cf2-12d7-4efd-d101-b46553c3bff6"
      },
      "outputs": [
        {
          "name": "stdout",
          "output_type": "stream",
          "text": [
            "0\n",
            "1\n",
            "2\n",
            "3\n",
            "4\n",
            "5\n",
            "6\n",
            "7\n",
            "8\n",
            "9\n",
            "10\n",
            "11\n",
            "12\n",
            "13\n",
            "14\n",
            "15\n",
            "16\n",
            "17\n",
            "18\n",
            "19\n",
            "20\n",
            "21\n",
            "22\n",
            "23\n",
            "24\n",
            "25\n",
            "26\n",
            "27\n",
            "28\n",
            "29\n",
            "30\n",
            "31\n",
            "32\n",
            "33\n",
            "34\n",
            "35\n",
            "36\n",
            "37\n",
            "38\n",
            "39\n",
            "40\n",
            "41\n",
            "42\n",
            "43\n",
            "44\n",
            "45\n",
            "46\n",
            "47\n",
            "48\n",
            "49\n",
            "50\n",
            "51\n",
            "52\n",
            "53\n",
            "54\n",
            "55\n",
            "56\n",
            "57\n",
            "58\n",
            "59\n",
            "60\n",
            "61\n",
            "62\n",
            "63\n",
            "64\n",
            "65\n",
            "66\n",
            "67\n",
            "68\n",
            "69\n",
            "70\n",
            "71\n",
            "72\n",
            "73\n",
            "74\n",
            "75\n",
            "76\n",
            "77\n",
            "78\n",
            "79\n",
            "80\n",
            "81\n",
            "82\n",
            "83\n",
            "84\n",
            "85\n",
            "86\n",
            "87\n",
            "88\n",
            "89\n",
            "90\n",
            "91\n",
            "92\n",
            "93\n",
            "94\n",
            "95\n",
            "96\n",
            "97\n",
            "98\n",
            "99\n"
          ]
        }
      ],
      "source": [
        "import random\n",
        "pd.options.mode.chained_assignment = None  # default='warn'\n",
        "\n",
        "# recommandé\n",
        "distance_intra_reco = []\n",
        "distance_reco = []\n",
        "for y in range(100):\n",
        "    choice = [298]\n",
        "    value = [4]\n",
        "    distance = []\n",
        "    print(y)\n",
        "    for i in range(10):\n",
        "        new_choice,new_value,dist_intra = prediction_call(model,choice,value)\n",
        "        distance_intra_reco.append(dist_intra)\n",
        "        choice.append(new_choice)\n",
        "        value.append(new_value)\n",
        "        dist = rel_proximity(choice)\n",
        "        distance.append(dist)\n",
        "    distance_reco.append(distance)\n",
        "    "
      ]
    },
    {
      "cell_type": "code",
      "execution_count": null,
      "metadata": {
        "id": "jvttuMV2isAj",
        "outputId": "b7855e51-ef46-41e0-908b-a8260ef9f8bd"
      },
      "outputs": [
        {
          "name": "stdout",
          "output_type": "stream",
          "text": [
            "0\n",
            "1\n",
            "2\n",
            "3\n",
            "4\n",
            "5\n",
            "6\n",
            "7\n",
            "8\n",
            "9\n",
            "10\n",
            "11\n",
            "12\n",
            "13\n",
            "14\n",
            "15\n",
            "16\n",
            "17\n",
            "18\n",
            "19\n",
            "20\n",
            "21\n",
            "22\n",
            "23\n",
            "24\n",
            "25\n",
            "26\n",
            "27\n",
            "28\n",
            "29\n",
            "30\n",
            "31\n",
            "32\n",
            "33\n",
            "34\n",
            "35\n",
            "36\n",
            "37\n",
            "38\n",
            "39\n",
            "40\n",
            "41\n",
            "42\n",
            "43\n",
            "44\n",
            "45\n",
            "46\n",
            "47\n",
            "48\n",
            "49\n",
            "50\n",
            "51\n",
            "52\n",
            "53\n",
            "54\n",
            "55\n",
            "56\n",
            "57\n",
            "58\n",
            "59\n",
            "60\n",
            "61\n",
            "62\n",
            "63\n",
            "64\n",
            "65\n",
            "66\n",
            "67\n",
            "68\n",
            "69\n",
            "70\n",
            "71\n",
            "72\n",
            "73\n",
            "74\n",
            "75\n",
            "76\n",
            "77\n",
            "78\n",
            "79\n",
            "80\n",
            "81\n",
            "82\n",
            "83\n",
            "84\n",
            "85\n",
            "86\n",
            "87\n",
            "88\n",
            "89\n",
            "90\n",
            "91\n",
            "92\n",
            "93\n",
            "94\n",
            "95\n",
            "96\n",
            "97\n",
            "98\n",
            "99\n"
          ]
        }
      ],
      "source": [
        "#non recommandé\n",
        "movieList = np.unique(user[\"movieId\"])\n",
        "distance_noreco = []\n",
        "for y in range(100):\n",
        "    choice = [298]\n",
        "    value = [4]\n",
        "    distance = []\n",
        "    print(y)\n",
        "    for i in range(10):\n",
        "        new_choice = random.choice(list(np.unique(user[\"movieId\"])))\n",
        "        new_value = random.randint(3, 5)\n",
        "        choice.append(new_choice)\n",
        "        value.append(new_value)\n",
        "        dist = rel_proximity(choice)\n",
        "        distance.append(dist)\n",
        "    distance_noreco.append(distance)\n",
        "    "
      ]
    },
    {
      "cell_type": "code",
      "execution_count": null,
      "metadata": {
        "id": "gp3gSL73isAk"
      },
      "outputs": [],
      "source": [
        "distance_intra_alea = []\n",
        "for y in range(100):\n",
        "    for i in range(10):\n",
        "        new_choice = []\n",
        "        for z in range(10):\n",
        "            new_choice.append(random.choice(list(np.unique(user[\"movieId\"]))))\n",
        "        distance_intra_alea.append(rel_proximity(new_choice))\n"
      ]
    },
    {
      "cell_type": "code",
      "execution_count": null,
      "metadata": {
        "id": "RqcOikPfisAk",
        "outputId": "23d71f0b-7141-4d1e-d0b4-696673a625e0"
      },
      "outputs": [
        {
          "name": "stdout",
          "output_type": "stream",
          "text": [
            "number of movie seen 0 :\n",
            "Ttest_indResult(statistic=-0.7481602144943595, pvalue=0.4552512481013098)\n",
            "number of movie seen 1 :\n",
            "Ttest_indResult(statistic=-1.4679668950443818, pvalue=0.1436999751251407)\n",
            "number of movie seen 2 :\n",
            "Ttest_indResult(statistic=-1.9129327813902832, pvalue=0.057199568903675065)\n",
            "number of movie seen 3 :\n",
            "Ttest_indResult(statistic=-2.2292837590750807, pvalue=0.026918850582534168)\n",
            "number of movie seen 4 :\n",
            "Ttest_indResult(statistic=-3.179636363615693, pvalue=0.0017115997488416352)\n",
            "number of movie seen 5 :\n",
            "Ttest_indResult(statistic=-2.8046141069947006, pvalue=0.0055397148960124485)\n",
            "number of movie seen 6 :\n",
            "Ttest_indResult(statistic=-2.9460542017139644, pvalue=0.0036044735145627864)\n",
            "number of movie seen 7 :\n",
            "Ttest_indResult(statistic=-2.936862693160807, pvalue=0.003708369126361719)\n",
            "number of movie seen 8 :\n",
            "Ttest_indResult(statistic=-2.985372028470412, pvalue=0.003189478841700707)\n",
            "number of movie seen 9 :\n",
            "Ttest_indResult(statistic=-2.952492603640769, pvalue=0.0035332935689339285)\n"
          ]
        }
      ],
      "source": [
        "from scipy.stats import ttest_ind\n",
        "distance_reco = np.array(distance_reco)\n",
        "distance_noreco = np.array(distance_noreco)\n",
        "for i in range(10) :\n",
        "    print(\"number of movie seen {} :\".format(i))\n",
        "    print(ttest_ind(distance_reco[:,i], distance_noreco[:,i]))\n"
      ]
    },
    {
      "cell_type": "code",
      "execution_count": null,
      "metadata": {
        "id": "LoA6-1ZrisAl",
        "outputId": "c3244ca9-6e9b-4586-c6f6-0f6293ddb45a"
      },
      "outputs": [
        {
          "name": "stdout",
          "output_type": "stream",
          "text": [
            "test répartition des distances intra groupes de recommandations\n",
            "Ttest_indResult(statistic=3.3575751383518813, pvalue=0.0008010429604573216)\n"
          ]
        }
      ],
      "source": [
        "print(\"test répartition des distances intra groupes de recommandations\")\n",
        "print(ttest_ind(distance_intra_alea, distance_intra_reco))\n"
      ]
    },
    {
      "cell_type": "code",
      "execution_count": null,
      "metadata": {
        "id": "jZCJUAXPisAl"
      },
      "outputs": [],
      "source": [
        ""
      ]
    }
  ],
  "metadata": {
    "colab": {
      "collapsed_sections": [],
      "name": "recomandation_system_CalculDiversityOverTime.ipynb",
      "provenance": [],
      "include_colab_link": true
    },
    "kernelspec": {
      "display_name": "Python 3 (ipykernel)",
      "language": "python",
      "name": "python3"
    },
    "language_info": {
      "codemirror_mode": {
        "name": "ipython",
        "version": 3
      },
      "file_extension": ".py",
      "mimetype": "text/x-python",
      "name": "python",
      "nbconvert_exporter": "python",
      "pygments_lexer": "ipython3",
      "version": "3.9.13"
    }
  },
  "nbformat": 4,
  "nbformat_minor": 0
}