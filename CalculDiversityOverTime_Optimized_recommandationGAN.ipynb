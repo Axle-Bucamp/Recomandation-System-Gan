{
  "cells": [
    {
      "cell_type": "markdown",
      "metadata": {
        "id": "view-in-github",
        "colab_type": "text"
      },
      "source": [
        "<a href=\"https://colab.research.google.com/github/Axle-Bucamp/Recomandation-System-Gan/blob/main/CalculDiversityOverTime_Optimized_recommandationGAN.ipynb\" target=\"_parent\"><img src=\"https://colab.research.google.com/assets/colab-badge.svg\" alt=\"Open In Colab\"/></a>"
      ]
    },
    {
      "cell_type": "markdown",
      "source": [
        "#  Comparaison entre la diversité de recommandation du modèle par rapport à un aléatoire. Calcul de la perte de diversité dans l'historique de recommandation\n",
        "\n",
        "Validation ou rejet de l'hypothèse de résolution des effets Bulles par rapport à un aléatoire (en cas de rejets des tests sur des utilisateurs sont nécessaire selon l'article de calcul des effets bulles). Si la diversité de recommandation et la diversité de l'historique d'un utilisateur est comparable à un aléatoire alors le biais est solvé, l'algorythme explore suffisament pour permettre à l'utilisateur de continuer de découvrir de nouveaux films si il en a l'envie. Sinon il est nécessaire afin de le résoudre d'accepter une perte de précision sauf si des tests directement liés aux utilisateur afirme une validation de l'hypothèse."
      ],
      "metadata": {
        "id": "YjXaxvmVfYAL"
      }
    },
    {
      "cell_type": "markdown",
      "source": [
        "Pensez à télécharger votre version du modèle ici selon le scripte optimisé de l'entrainement : \"Training_Optimized_recommandationGAN\"."
      ],
      "metadata": {
        "id": "XdPkUF-Ogexl"
      }
    },
    {
      "cell_type": "code",
      "execution_count": null,
      "metadata": {
        "id": "YTAyixLt3-Gt"
      },
      "outputs": [],
      "source": [
        "import h5py\n",
        "from ipywidgets import widgets\n",
        "import os\n",
        "import numpy as np\n",
        "import pandas as pd\n",
        "import random\n",
        "\n",
        "import tensorflow as tf\n",
        "import pathlib\n",
        "import progressbar\n",
        "import datetime\n",
        "import time\n",
        "\n",
        "from scipy.spatial.distance import cdist\n",
        "from sklearn.metrics.pairwise import pairwise_distances\n",
        "from scipy.spatial.distance import pdist\n",
        "from scipy.sparse import csr_matrix\n",
        "from scipy.special import expit\n",
        "from sklearn.metrics import confusion_matrix\n",
        "from sklearn.metrics import accuracy_score\n",
        "from matplotlib import pyplot as plt\n",
        "from IPython import display\n",
        "from tensorflow import keras"
      ]
    },
    {
      "cell_type": "code",
      "source": [
        "import os\n",
        "import urllib.request\n",
        "urllib.request.urlretrieve(\"https://files.grouplens.org/datasets/movielens/ml-25m.zip\",\"ml-25m.zip\")\n",
        "!unzip \"ml-25m.zip\" -d \"ml-25m\""
      ],
      "metadata": {
        "id": "pqquaJYBgrZJ"
      },
      "execution_count": null,
      "outputs": []
    },
    {
      "cell_type": "code",
      "execution_count": null,
      "metadata": {
        "id": "jvV_G6v4fJhF"
      },
      "outputs": [],
      "source": [
        "user = pd.read_csv('ml-25m/ml-25m/ratings.csv')\n",
        "user = user.sample(frac=1).reset_index(drop=True)\n",
        "genome = pd.read_csv('ml-25m/ml-25m/genome-scores.csv')"
      ]
    },
    {
      "cell_type": "code",
      "execution_count": null,
      "metadata": {
        "id": "lt79gUNHfJhG",
        "outputId": "2b5f3bb7-fde2-4c1d-88c5-971851c05fc2"
      },
      "outputs": [
        {
          "data": {
            "text/html": [
              "<div>\n",
              "<style scoped>\n",
              "    .dataframe tbody tr th:only-of-type {\n",
              "        vertical-align: middle;\n",
              "    }\n",
              "\n",
              "    .dataframe tbody tr th {\n",
              "        vertical-align: top;\n",
              "    }\n",
              "\n",
              "    .dataframe thead th {\n",
              "        text-align: right;\n",
              "    }\n",
              "</style>\n",
              "<table border=\"1\" class=\"dataframe\">\n",
              "  <thead>\n",
              "    <tr style=\"text-align: right;\">\n",
              "      <th></th>\n",
              "      <th>movieId</th>\n",
              "      <th>tagId</th>\n",
              "      <th>relevance</th>\n",
              "    </tr>\n",
              "  </thead>\n",
              "  <tbody>\n",
              "    <tr>\n",
              "      <th>0</th>\n",
              "      <td>1</td>\n",
              "      <td>1</td>\n",
              "      <td>0.02875</td>\n",
              "    </tr>\n",
              "    <tr>\n",
              "      <th>1</th>\n",
              "      <td>1</td>\n",
              "      <td>2</td>\n",
              "      <td>0.02375</td>\n",
              "    </tr>\n",
              "    <tr>\n",
              "      <th>2</th>\n",
              "      <td>1</td>\n",
              "      <td>3</td>\n",
              "      <td>0.06250</td>\n",
              "    </tr>\n",
              "    <tr>\n",
              "      <th>3</th>\n",
              "      <td>1</td>\n",
              "      <td>4</td>\n",
              "      <td>0.07575</td>\n",
              "    </tr>\n",
              "    <tr>\n",
              "      <th>4</th>\n",
              "      <td>1</td>\n",
              "      <td>5</td>\n",
              "      <td>0.14075</td>\n",
              "    </tr>\n",
              "  </tbody>\n",
              "</table>\n",
              "</div>"
            ],
            "text/plain": [
              "   movieId  tagId  relevance\n",
              "0        1      1    0.02875\n",
              "1        1      2    0.02375\n",
              "2        1      3    0.06250\n",
              "3        1      4    0.07575\n",
              "4        1      5    0.14075"
            ]
          },
          "execution_count": 3,
          "metadata": {},
          "output_type": "execute_result"
        }
      ],
      "source": [
        "genome.head()"
      ]
    },
    {
      "cell_type": "code",
      "execution_count": null,
      "metadata": {
        "id": "um27quxifJhH"
      },
      "outputs": [],
      "source": [
        "movie_list = np.unique(genome[\"movieId\"]) #np.random.choice(np.unique(genome[\"movieId\"]), size=10000, replace=False)\n",
        "user = user[user['movieId'].isin(movie_list)].sort_values(by=['movieId'])\n",
        "genome = genome[genome['movieId'].isin(movie_list)].sort_values(by=['movieId'])"
      ]
    },
    {
      "cell_type": "code",
      "execution_count": null,
      "metadata": {
        "id": "J5fEso5UfJhI"
      },
      "outputs": [],
      "source": [
        "pivot_genome = pd.pivot_table(genome, values='relevance', index=['tagId'],columns=['movieId'], aggfunc=np.sum)"
      ]
    },
    {
      "cell_type": "code",
      "execution_count": null,
      "metadata": {
        "id": "B3BpWryEfJhI"
      },
      "outputs": [],
      "source": [
        "user_row = list(sorted(user.userId.unique()))\n",
        "movie_col = list(sorted(user.movieId.unique()))\n",
        "\n",
        "data = user['rating'].tolist()\n",
        "row = user.userId.astype('category').cat.codes\n",
        "col = user.movieId.astype('category').cat.codes\n",
        "\n",
        "table = csr_matrix((data, (row, col)), shape=(len(user_row), len(movie_col)))\n",
        "\n",
        "nonzero_row_indice, _ = table.nonzero()\n",
        "table =  table[np.unique(nonzero_row_indice)]"
      ]
    },
    {
      "cell_type": "code",
      "execution_count": null,
      "metadata": {
        "id": "Xku1AopV44L9"
      },
      "outputs": [],
      "source": [
        "model = tf.keras.models.load_model(\"Generator.h5\", compile=False)"
      ]
    },
    {
      "cell_type": "code",
      "execution_count": null,
      "metadata": {
        "id": "jDImUjM855d9"
      },
      "outputs": [],
      "source": [
        "UserRow = 128\n",
        "ItemUserNorm = table"
      ]
    },
    {
      "cell_type": "code",
      "execution_count": null,
      "metadata": {
        "id": "EOV47RHJfJhJ"
      },
      "outputs": [],
      "source": [
        "def rel_proximity(movieList):\n",
        "    return np.mean(pdist(pivot_genome.iloc[:,movieList] , 'euclidean'))"
      ]
    },
    {
      "cell_type": "code",
      "execution_count": null,
      "metadata": {
        "id": "_xPG-T6B5jfb"
      },
      "outputs": [],
      "source": [
        "np.seterr(invalid='ignore')\n",
        "from scipy.spatial.distance import cdist\n",
        "\n",
        "def create_input_matrix(choice,value):\n",
        "  number_of_rows = table.shape[0]\n",
        "  movielist = list(np.unique(user[\"movieId\"]))\n",
        "    \n",
        "  ItemUserNorm[0,:] = 0\n",
        "  ItemUserNorm[0,choice] = value\n",
        "    \n",
        "  dist_array = pairwise_distances(X=ItemUserNorm[0].toarray(), Y=ItemUserNorm, metric='euclidean')\n",
        "  random_row = dist_array.reshape(number_of_rows).argsort()\n",
        "  \n",
        "  Xpred = ItemUserNorm[random_row[0:UserRow]]\n",
        "    \n",
        "  col =  np.array(np.sum(Xpred,axis=0).argsort()).flatten()[::-1]\n",
        "  Xpred = Xpred[:,col[0:UserRow]].toarray()\n",
        "\n",
        "  Xpred = Xpred.reshape(UserRow,UserRow,1) / np.max(Xpred)\n",
        "  #Xpred = np.concatenate([Xpred, np.random.normal(0.5,0.5,UserRow*UserRow).reshape(UserRow,UserRow,1)], axis=2)\n",
        "\n",
        "  return Xpred, col[0:UserRow]\n"
      ]
    },
    {
      "cell_type": "code",
      "execution_count": null,
      "metadata": {
        "id": "G2aYs3_MfJhK"
      },
      "outputs": [],
      "source": [
        "def prediction_call(model, choice, value):\n",
        "  xpred, rand_col = create_input_matrix(choice,value)\n",
        "  ypred = model(tf.convert_to_tensor(xpred.reshape(1,UserRow,UserRow,xpred.shape[2]).astype(float))).numpy().reshape(UserRow,UserRow)\n",
        "  max_indice = np.argpartition(ypred[0,:], -10)[-10:]\n",
        "  return rand_col[max_indice[0]], random.randint(3, 5),rel_proximity(np.array(rand_col)[max_indice])\n"
      ]
    },
    {
      "cell_type": "code",
      "execution_count": null,
      "metadata": {
        "id": "JrUX39ESfJhK"
      },
      "outputs": [],
      "source": [
        "import warnings\n",
        "warnings.filterwarnings('ignore')"
      ]
    },
    {
      "cell_type": "code",
      "execution_count": null,
      "metadata": {
        "scrolled": true,
        "id": "NzYrOYCafJhK",
        "outputId": "c8e028bd-dc6f-40ae-fc70-1d784aeef367"
      },
      "outputs": [
        {
          "name": "stderr",
          "output_type": "stream",
          "text": [
            "[========================================================================] 100%\r"
          ]
        }
      ],
      "source": [
        "import random\n",
        "pd.options.mode.chained_assignment = None  # default='warn'\n",
        "movielist = movie_list\n",
        "# recommandé\n",
        "distance_intra_reco = []\n",
        "distance_reco = []\n",
        "\n",
        "datasetSize = 30\n",
        "\n",
        "bar = progressbar.ProgressBar(maxval=datasetSize, \\\n",
        "    widgets=[progressbar.Bar('=', '[', ']'), ' ', progressbar.Percentage()])\n",
        "bar.start()\n",
        "\n",
        "for y in range(30):\n",
        "    choice = [movielist[random.randint(0, 6000)]]\n",
        "    value = [random.randint(2, 5)]\n",
        "    distance = []\n",
        "    for i in range(10):\n",
        "        new_choice,new_value,dist_intra = prediction_call(model,choice,value)\n",
        "        distance_intra_reco.append(dist_intra)\n",
        "        choice.append(new_choice)\n",
        "        value.append(new_value)\n",
        "        dist = rel_proximity(choice)\n",
        "        distance.append(dist)\n",
        "    distance_reco.append(distance)\n",
        "    bar.update(y+1)"
      ]
    },
    {
      "cell_type": "code",
      "execution_count": null,
      "metadata": {
        "id": "I2woT6NMfJhL",
        "outputId": "95ff3c7b-c9af-48c4-e20d-aef55d312dd3"
      },
      "outputs": [
        {
          "name": "stderr",
          "output_type": "stream",
          "text": [
            "[========================================================================] 100%\r"
          ]
        }
      ],
      "source": [
        "#non recommandé\n",
        "movieList = np.unique(user[\"movieId\"])\n",
        "distance_noreco = []\n",
        "\n",
        "bar = progressbar.ProgressBar(maxval=datasetSize, \\\n",
        "    widgets=[progressbar.Bar('=', '[', ']'), ' ', progressbar.Percentage()])\n",
        "bar.start()\n",
        "\n",
        "for y in range(30):\n",
        "    choice = [movielist[random.randint(0, 6000)]]\n",
        "    value = [random.randint(2, 5)]\n",
        "    distance = []\n",
        "    for i in range(10):\n",
        "        new_choice = random.choice( range(len(np.unique(user[\"movieId\"])) ))\n",
        "        new_value = random.randint(3, 5)\n",
        "        choice.append(new_choice)\n",
        "        value.append(new_value)\n",
        "        dist = rel_proximity(choice)\n",
        "        distance.append(dist)\n",
        "    distance_noreco.append(distance) \n",
        "    bar.update(y+1)"
      ]
    },
    {
      "cell_type": "code",
      "execution_count": null,
      "metadata": {
        "id": "G8_DPlRPfJhL",
        "outputId": "b77fd07f-86bf-4eb1-aeb7-c6d116d9f63f"
      },
      "outputs": [
        {
          "name": "stderr",
          "output_type": "stream",
          "text": [
            "[========================================================================] 100%\r"
          ]
        }
      ],
      "source": [
        "distance_intra_alea = []\n",
        "\n",
        "bar = progressbar.ProgressBar(maxval=datasetSize, \\\n",
        "    widgets=[progressbar.Bar('=', '[', ']'), ' ', progressbar.Percentage()])\n",
        "bar.start()\n",
        "\n",
        "for y in range(30):\n",
        "    \n",
        "    for i in range(10):\n",
        "        new_choice = []\n",
        "        for z in range(10):\n",
        "            new_choice.append( random.choice(range(len(np.unique(user[\"movieId\"])) )) )\n",
        "        distance_intra_alea.append(rel_proximity(new_choice))\n",
        "        \n",
        "    bar.update(y+1)\n"
      ]
    },
    {
      "cell_type": "code",
      "execution_count": null,
      "metadata": {
        "id": "Vy2cUGAsfJhM",
        "outputId": "e7b76d9c-09e8-41a0-db25-b9dc4b5e364b"
      },
      "outputs": [
        {
          "name": "stdout",
          "output_type": "stream",
          "text": [
            "number of movie seen 0 :\n",
            "Ttest_indResult(statistic=1.9990259585702403, pvalue=0.05029876572116438)\n",
            "number of movie seen 1 :\n",
            "Ttest_indResult(statistic=3.1061177598981193, pvalue=0.0029323460940840857)\n",
            "number of movie seen 2 :\n",
            "Ttest_indResult(statistic=4.190164371236006, pvalue=9.622335442364331e-05)\n",
            "number of movie seen 3 :\n",
            "Ttest_indResult(statistic=5.348736332706551, pvalue=1.567962710993766e-06)\n",
            "number of movie seen 4 :\n",
            "Ttest_indResult(statistic=6.314692603115441, pvalue=4.104409427572097e-08)\n",
            "number of movie seen 5 :\n",
            "Ttest_indResult(statistic=7.44056802953609, pvalue=5.327733881587714e-10)\n",
            "number of movie seen 6 :\n",
            "Ttest_indResult(statistic=8.360297845226514, pvalue=1.5291137625687077e-11)\n",
            "number of movie seen 7 :\n",
            "Ttest_indResult(statistic=8.88409627076413, pvalue=2.060762198813886e-12)\n",
            "number of movie seen 8 :\n",
            "Ttest_indResult(statistic=9.723450893958649, pvalue=8.684139684991504e-14)\n",
            "number of movie seen 9 :\n",
            "Ttest_indResult(statistic=10.271789242660683, pvalue=1.1382513618082484e-14)\n"
          ]
        }
      ],
      "source": [
        "from scipy.stats import ttest_ind\n",
        "distance_reco = np.array(distance_reco)\n",
        "distance_noreco = np.array(distance_noreco)\n",
        "for i in range(10) :\n",
        "    print(\"number of movie seen {} :\".format(i))\n",
        "    print(ttest_ind(distance_reco[:,i], distance_noreco[:,i]))\n"
      ]
    },
    {
      "cell_type": "code",
      "execution_count": null,
      "metadata": {
        "id": "EwUdF1XbfJhM",
        "outputId": "5c09823a-554a-42f7-f046-c3a4f9f70fb5"
      },
      "outputs": [
        {
          "name": "stdout",
          "output_type": "stream",
          "text": [
            "test répartition des distances intra groupes de recommandations\n",
            "Ttest_indResult(statistic=-36.576104789701404, pvalue=1.1348027240467979e-154)\n"
          ]
        }
      ],
      "source": [
        "print(\"test répartition des distances intra groupes de recommandations\")\n",
        "print(ttest_ind(distance_intra_alea, distance_intra_reco))\n"
      ]
    }
  ],
  "metadata": {
    "colab": {
      "collapsed_sections": [],
      "name": "CalculDiversityOverTime_Optimized_recommandationGAN.ipynb",
      "provenance": [],
      "include_colab_link": true
    },
    "hide_input": false,
    "kernelspec": {
      "display_name": "Python 3 (ipykernel)",
      "language": "python",
      "name": "python3"
    },
    "language_info": {
      "codemirror_mode": {
        "name": "ipython",
        "version": 3
      },
      "file_extension": ".py",
      "mimetype": "text/x-python",
      "name": "python",
      "nbconvert_exporter": "python",
      "pygments_lexer": "ipython3",
      "version": "3.9.13"
    }
  },
  "nbformat": 4,
  "nbformat_minor": 0
}