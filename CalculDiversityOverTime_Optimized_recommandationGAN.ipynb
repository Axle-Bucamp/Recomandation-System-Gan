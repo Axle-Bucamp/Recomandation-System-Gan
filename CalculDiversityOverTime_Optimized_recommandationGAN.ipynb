{
  "cells": [
    {
      "cell_type": "markdown",
      "metadata": {
        "id": "view-in-github",
        "colab_type": "text"
      },
      "source": [
        "<a href=\"https://colab.research.google.com/github/Axle-Bucamp/Recomandation-System-Gan/blob/main/CalculDiversityOverTime_Optimized_recommandationGAN.ipynb\" target=\"_parent\"><img src=\"https://colab.research.google.com/assets/colab-badge.svg\" alt=\"Open In Colab\"/></a>"
      ]
    },
    {
      "cell_type": "markdown",
      "source": [
        "#  Comparaison entre la diversité de recommandation du modèle par rapport à un aléatoire. Calcul de la perte de diversité dans l'historique de recommandation\n",
        "\n",
        "Validation ou rejet de l'hypothèse de résolution des effets Bulles par rapport à un aléatoire (en cas de rejets des tests sur des utilisateurs sont nécessaire selon l'article de calcul des effets bulles). Si la diversité de recommandation et la diversité de l'historique d'un utilisateur est comparable à un aléatoire alors le biais est solvé, l'algorythme explore suffisament pour permettre à l'utilisateur de continuer de découvrir de nouveaux films si il en a l'envie. Sinon il est nécessaire afin de le résoudre d'accepter une perte de précision sauf si des tests directement liés aux utilisateur afirme une validation de l'hypothèse."
      ],
      "metadata": {
        "id": "YjXaxvmVfYAL"
      }
    },
    {
      "cell_type": "markdown",
      "source": [
        "Pensez à télécharger votre version du modèle ici selon le scripte optimisé de l'entrainement : \"Training_Optimized_recommandationGAN\"."
      ],
      "metadata": {
        "id": "XdPkUF-Ogexl"
      }
    },
    {
      "cell_type": "code",
      "execution_count": 1,
      "metadata": {
        "id": "YTAyixLt3-Gt"
      },
      "outputs": [],
      "source": [
        "import h5py\n",
        "from ipywidgets import widgets\n",
        "import os\n",
        "import numpy as np\n",
        "import pandas as pd\n",
        "import random\n",
        "\n",
        "import tensorflow as tf\n",
        "import pathlib\n",
        "import progressbar\n",
        "import datetime\n",
        "import time\n",
        "\n",
        "from scipy.spatial.distance import cdist\n",
        "from sklearn.metrics.pairwise import pairwise_distances\n",
        "from scipy.spatial.distance import pdist\n",
        "from scipy.sparse import csr_matrix\n",
        "from scipy.special import expit\n",
        "from sklearn.metrics import confusion_matrix\n",
        "from sklearn.metrics import accuracy_score\n",
        "from matplotlib import pyplot as plt\n",
        "from IPython import display\n",
        "from tensorflow import keras"
      ]
    },
    {
      "cell_type": "code",
      "source": [
        "import os\n",
        "import urllib.request\n",
        "urllib.request.urlretrieve(\"https://files.grouplens.org/datasets/movielens/ml-25m.zip\",\"ml-25m.zip\")\n",
        "!unzip \"ml-25m.zip\" -d \"ml-25m\""
      ],
      "metadata": {
        "colab": {
          "base_uri": "https://localhost:8080/"
        },
        "id": "pqquaJYBgrZJ",
        "outputId": "7899c4bb-4f2c-443e-e95a-c426ebae4a08"
      },
      "execution_count": 2,
      "outputs": [
        {
          "output_type": "stream",
          "name": "stdout",
          "text": [
            "Archive:  ml-25m.zip\n",
            "   creating: ml-25m/ml-25m/\n",
            "  inflating: ml-25m/ml-25m/tags.csv  \n",
            "  inflating: ml-25m/ml-25m/links.csv  \n",
            "  inflating: ml-25m/ml-25m/README.txt  \n",
            "  inflating: ml-25m/ml-25m/ratings.csv  \n",
            "  inflating: ml-25m/ml-25m/genome-tags.csv  \n",
            "  inflating: ml-25m/ml-25m/genome-scores.csv  \n",
            "  inflating: ml-25m/ml-25m/movies.csv  \n"
          ]
        }
      ]
    },
    {
      "cell_type": "code",
      "execution_count": 3,
      "metadata": {
        "id": "jvV_G6v4fJhF"
      },
      "outputs": [],
      "source": [
        "user = pd.read_csv('ml-25m/ml-25m/ratings.csv')\n",
        "user = user.sample(frac=1).reset_index(drop=True)\n",
        "genome = pd.read_csv('ml-25m/ml-25m/genome-scores.csv')"
      ]
    },
    {
      "cell_type": "code",
      "execution_count": 4,
      "metadata": {
        "colab": {
          "base_uri": "https://localhost:8080/",
          "height": 206
        },
        "id": "lt79gUNHfJhG",
        "outputId": "81005961-9f06-4fff-f9b7-6628be2ee8ff"
      },
      "outputs": [
        {
          "output_type": "execute_result",
          "data": {
            "text/plain": [
              "   movieId  tagId  relevance\n",
              "0        1      1    0.02875\n",
              "1        1      2    0.02375\n",
              "2        1      3    0.06250\n",
              "3        1      4    0.07575\n",
              "4        1      5    0.14075"
            ],
            "text/html": [
              "\n",
              "  <div id=\"df-9d2660c2-90a6-4f83-ac08-039b65cab0eb\">\n",
              "    <div class=\"colab-df-container\">\n",
              "      <div>\n",
              "<style scoped>\n",
              "    .dataframe tbody tr th:only-of-type {\n",
              "        vertical-align: middle;\n",
              "    }\n",
              "\n",
              "    .dataframe tbody tr th {\n",
              "        vertical-align: top;\n",
              "    }\n",
              "\n",
              "    .dataframe thead th {\n",
              "        text-align: right;\n",
              "    }\n",
              "</style>\n",
              "<table border=\"1\" class=\"dataframe\">\n",
              "  <thead>\n",
              "    <tr style=\"text-align: right;\">\n",
              "      <th></th>\n",
              "      <th>movieId</th>\n",
              "      <th>tagId</th>\n",
              "      <th>relevance</th>\n",
              "    </tr>\n",
              "  </thead>\n",
              "  <tbody>\n",
              "    <tr>\n",
              "      <th>0</th>\n",
              "      <td>1</td>\n",
              "      <td>1</td>\n",
              "      <td>0.02875</td>\n",
              "    </tr>\n",
              "    <tr>\n",
              "      <th>1</th>\n",
              "      <td>1</td>\n",
              "      <td>2</td>\n",
              "      <td>0.02375</td>\n",
              "    </tr>\n",
              "    <tr>\n",
              "      <th>2</th>\n",
              "      <td>1</td>\n",
              "      <td>3</td>\n",
              "      <td>0.06250</td>\n",
              "    </tr>\n",
              "    <tr>\n",
              "      <th>3</th>\n",
              "      <td>1</td>\n",
              "      <td>4</td>\n",
              "      <td>0.07575</td>\n",
              "    </tr>\n",
              "    <tr>\n",
              "      <th>4</th>\n",
              "      <td>1</td>\n",
              "      <td>5</td>\n",
              "      <td>0.14075</td>\n",
              "    </tr>\n",
              "  </tbody>\n",
              "</table>\n",
              "</div>\n",
              "      <button class=\"colab-df-convert\" onclick=\"convertToInteractive('df-9d2660c2-90a6-4f83-ac08-039b65cab0eb')\"\n",
              "              title=\"Convert this dataframe to an interactive table.\"\n",
              "              style=\"display:none;\">\n",
              "        \n",
              "  <svg xmlns=\"http://www.w3.org/2000/svg\" height=\"24px\"viewBox=\"0 0 24 24\"\n",
              "       width=\"24px\">\n",
              "    <path d=\"M0 0h24v24H0V0z\" fill=\"none\"/>\n",
              "    <path d=\"M18.56 5.44l.94 2.06.94-2.06 2.06-.94-2.06-.94-.94-2.06-.94 2.06-2.06.94zm-11 1L8.5 8.5l.94-2.06 2.06-.94-2.06-.94L8.5 2.5l-.94 2.06-2.06.94zm10 10l.94 2.06.94-2.06 2.06-.94-2.06-.94-.94-2.06-.94 2.06-2.06.94z\"/><path d=\"M17.41 7.96l-1.37-1.37c-.4-.4-.92-.59-1.43-.59-.52 0-1.04.2-1.43.59L10.3 9.45l-7.72 7.72c-.78.78-.78 2.05 0 2.83L4 21.41c.39.39.9.59 1.41.59.51 0 1.02-.2 1.41-.59l7.78-7.78 2.81-2.81c.8-.78.8-2.07 0-2.86zM5.41 20L4 18.59l7.72-7.72 1.47 1.35L5.41 20z\"/>\n",
              "  </svg>\n",
              "      </button>\n",
              "      \n",
              "  <style>\n",
              "    .colab-df-container {\n",
              "      display:flex;\n",
              "      flex-wrap:wrap;\n",
              "      gap: 12px;\n",
              "    }\n",
              "\n",
              "    .colab-df-convert {\n",
              "      background-color: #E8F0FE;\n",
              "      border: none;\n",
              "      border-radius: 50%;\n",
              "      cursor: pointer;\n",
              "      display: none;\n",
              "      fill: #1967D2;\n",
              "      height: 32px;\n",
              "      padding: 0 0 0 0;\n",
              "      width: 32px;\n",
              "    }\n",
              "\n",
              "    .colab-df-convert:hover {\n",
              "      background-color: #E2EBFA;\n",
              "      box-shadow: 0px 1px 2px rgba(60, 64, 67, 0.3), 0px 1px 3px 1px rgba(60, 64, 67, 0.15);\n",
              "      fill: #174EA6;\n",
              "    }\n",
              "\n",
              "    [theme=dark] .colab-df-convert {\n",
              "      background-color: #3B4455;\n",
              "      fill: #D2E3FC;\n",
              "    }\n",
              "\n",
              "    [theme=dark] .colab-df-convert:hover {\n",
              "      background-color: #434B5C;\n",
              "      box-shadow: 0px 1px 3px 1px rgba(0, 0, 0, 0.15);\n",
              "      filter: drop-shadow(0px 1px 2px rgba(0, 0, 0, 0.3));\n",
              "      fill: #FFFFFF;\n",
              "    }\n",
              "  </style>\n",
              "\n",
              "      <script>\n",
              "        const buttonEl =\n",
              "          document.querySelector('#df-9d2660c2-90a6-4f83-ac08-039b65cab0eb button.colab-df-convert');\n",
              "        buttonEl.style.display =\n",
              "          google.colab.kernel.accessAllowed ? 'block' : 'none';\n",
              "\n",
              "        async function convertToInteractive(key) {\n",
              "          const element = document.querySelector('#df-9d2660c2-90a6-4f83-ac08-039b65cab0eb');\n",
              "          const dataTable =\n",
              "            await google.colab.kernel.invokeFunction('convertToInteractive',\n",
              "                                                     [key], {});\n",
              "          if (!dataTable) return;\n",
              "\n",
              "          const docLinkHtml = 'Like what you see? Visit the ' +\n",
              "            '<a target=\"_blank\" href=https://colab.research.google.com/notebooks/data_table.ipynb>data table notebook</a>'\n",
              "            + ' to learn more about interactive tables.';\n",
              "          element.innerHTML = '';\n",
              "          dataTable['output_type'] = 'display_data';\n",
              "          await google.colab.output.renderOutput(dataTable, element);\n",
              "          const docLink = document.createElement('div');\n",
              "          docLink.innerHTML = docLinkHtml;\n",
              "          element.appendChild(docLink);\n",
              "        }\n",
              "      </script>\n",
              "    </div>\n",
              "  </div>\n",
              "  "
            ]
          },
          "metadata": {},
          "execution_count": 4
        }
      ],
      "source": [
        "genome.head()"
      ]
    },
    {
      "cell_type": "code",
      "execution_count": 5,
      "metadata": {
        "id": "um27quxifJhH"
      },
      "outputs": [],
      "source": [
        "movie_list = np.unique(genome[\"movieId\"]) #np.random.choice(np.unique(genome[\"movieId\"]), size=10000, replace=False)\n",
        "user = user[user['movieId'].isin(movie_list)].sort_values(by=['movieId'])\n",
        "genome = genome[genome['movieId'].isin(movie_list)].sort_values(by=['movieId'])"
      ]
    },
    {
      "cell_type": "code",
      "execution_count": 6,
      "metadata": {
        "id": "J5fEso5UfJhI"
      },
      "outputs": [],
      "source": [
        "pivot_genome = pd.pivot_table(genome, values='relevance', index=['tagId'],columns=['movieId'], aggfunc=np.sum)"
      ]
    },
    {
      "cell_type": "code",
      "execution_count": 7,
      "metadata": {
        "id": "B3BpWryEfJhI"
      },
      "outputs": [],
      "source": [
        "user_row = list(sorted(user.userId.unique()))\n",
        "movie_col = list(sorted(user.movieId.unique()))\n",
        "\n",
        "data = user['rating'].tolist()\n",
        "row = user.userId.astype('category').cat.codes\n",
        "col = user.movieId.astype('category').cat.codes\n",
        "\n",
        "table = csr_matrix((data, (row, col)), shape=(len(user_row), len(movie_col)))\n",
        "\n",
        "nonzero_row_indice, _ = table.nonzero()\n",
        "table =  table[np.unique(nonzero_row_indice)]"
      ]
    },
    {
      "cell_type": "code",
      "execution_count": 9,
      "metadata": {
        "id": "Xku1AopV44L9"
      },
      "outputs": [],
      "source": [
        "model = tf.keras.models.load_model(\"Generator.h5\", compile=False)"
      ]
    },
    {
      "cell_type": "code",
      "execution_count": 10,
      "metadata": {
        "id": "jDImUjM855d9"
      },
      "outputs": [],
      "source": [
        "UserRow = 128\n",
        "ItemUserNorm = table"
      ]
    },
    {
      "cell_type": "code",
      "execution_count": 11,
      "metadata": {
        "id": "EOV47RHJfJhJ"
      },
      "outputs": [],
      "source": [
        "def rel_proximity(movieList):\n",
        "    return np.mean(pdist(pivot_genome.iloc[:,movieList] , 'euclidean'))"
      ]
    },
    {
      "cell_type": "code",
      "execution_count": 12,
      "metadata": {
        "id": "_xPG-T6B5jfb"
      },
      "outputs": [],
      "source": [
        "np.seterr(invalid='ignore')\n",
        "from scipy.spatial.distance import cdist\n",
        "\n",
        "def create_input_matrix(choice,value):\n",
        "  number_of_rows = table.shape[0]\n",
        "  movielist = list(np.unique(user[\"movieId\"]))\n",
        "    \n",
        "  ItemUserNorm[0,:] = 0\n",
        "  ItemUserNorm[0,choice] = value\n",
        "    \n",
        "  dist_array = pairwise_distances(X=ItemUserNorm[0].toarray(), Y=ItemUserNorm, metric='euclidean')\n",
        "  random_row = dist_array.reshape(number_of_rows).argsort()\n",
        "  \n",
        "  Xpred = ItemUserNorm[random_row[0:UserRow]]\n",
        "    \n",
        "  col =  np.array(np.sum(Xpred,axis=0).argsort()).flatten()[::-1]\n",
        "  Xpred = Xpred[:,col[0:UserRow]].toarray()\n",
        "\n",
        "  Xpred = Xpred.reshape(UserRow,UserRow,1) / np.max(Xpred)\n",
        "  #Xpred = np.concatenate([Xpred, np.random.normal(0.5,0.5,UserRow*UserRow).reshape(UserRow,UserRow,1)], axis=2)\n",
        "\n",
        "  return Xpred, col[0:UserRow]\n"
      ]
    },
    {
      "cell_type": "code",
      "execution_count": 13,
      "metadata": {
        "id": "G2aYs3_MfJhK"
      },
      "outputs": [],
      "source": [
        "def prediction_call(model, choice, value):\n",
        "  xpred, rand_col = create_input_matrix(choice,value)\n",
        "  ypred = model(tf.convert_to_tensor(xpred.reshape(1,UserRow,UserRow,xpred.shape[2]).astype(float))).numpy().reshape(UserRow,UserRow)\n",
        "  max_indice = np.argpartition(ypred[0,:], -10)[-10:]\n",
        "  return rand_col[max_indice[0]], random.randint(3, 5),rel_proximity(np.array(rand_col)[max_indice])\n"
      ]
    },
    {
      "cell_type": "code",
      "execution_count": 14,
      "metadata": {
        "id": "JrUX39ESfJhK"
      },
      "outputs": [],
      "source": [
        "import warnings\n",
        "warnings.filterwarnings('ignore')"
      ]
    },
    {
      "cell_type": "code",
      "execution_count": 15,
      "metadata": {
        "scrolled": true,
        "colab": {
          "base_uri": "https://localhost:8080/"
        },
        "id": "NzYrOYCafJhK",
        "outputId": "765afde9-3928-42a6-c39d-444368929777"
      },
      "outputs": [
        {
          "output_type": "stream",
          "name": "stderr",
          "text": [
            "[========================================================================] 100%"
          ]
        }
      ],
      "source": [
        "import random\n",
        "pd.options.mode.chained_assignment = None  # default='warn'\n",
        "movielist = movie_list\n",
        "# recommandé\n",
        "distance_intra_reco = []\n",
        "distance_reco = []\n",
        "\n",
        "datasetSize = 30\n",
        "\n",
        "bar = progressbar.ProgressBar(maxval=datasetSize, \\\n",
        "    widgets=[progressbar.Bar('=', '[', ']'), ' ', progressbar.Percentage()])\n",
        "bar.start()\n",
        "\n",
        "for y in range(30):\n",
        "    choice = [movielist[random.randint(0, 6000)]]\n",
        "    value = [random.randint(2, 5)]\n",
        "    distance = []\n",
        "    for i in range(10):\n",
        "        new_choice,new_value,dist_intra = prediction_call(model,choice,value)\n",
        "        distance_intra_reco.append(dist_intra)\n",
        "        choice.append(new_choice)\n",
        "        value.append(new_value)\n",
        "        dist = rel_proximity(choice)\n",
        "        distance.append(dist)\n",
        "    distance_reco.append(distance)\n",
        "    bar.update(y+1)"
      ]
    },
    {
      "cell_type": "code",
      "execution_count": 16,
      "metadata": {
        "colab": {
          "base_uri": "https://localhost:8080/"
        },
        "id": "I2woT6NMfJhL",
        "outputId": "8d109a63-67f7-4253-a4a5-79eae1a686df"
      },
      "outputs": [
        {
          "output_type": "stream",
          "name": "stderr",
          "text": [
            "[========================================================================] 100%"
          ]
        }
      ],
      "source": [
        "#non recommandé\n",
        "movieList = np.unique(user[\"movieId\"])\n",
        "distance_noreco = []\n",
        "\n",
        "bar = progressbar.ProgressBar(maxval=datasetSize, \\\n",
        "    widgets=[progressbar.Bar('=', '[', ']'), ' ', progressbar.Percentage()])\n",
        "bar.start()\n",
        "\n",
        "for y in range(30):\n",
        "    choice = [movielist[random.randint(0, 6000)]]\n",
        "    value = [random.randint(2, 5)]\n",
        "    distance = []\n",
        "    for i in range(10):\n",
        "        new_choice = random.choice( range(len(np.unique(user[\"movieId\"])) ))\n",
        "        new_value = random.randint(3, 5)\n",
        "        choice.append(new_choice)\n",
        "        value.append(new_value)\n",
        "        dist = rel_proximity(choice)\n",
        "        distance.append(dist)\n",
        "    distance_noreco.append(distance) \n",
        "    bar.update(y+1)"
      ]
    },
    {
      "cell_type": "code",
      "execution_count": 17,
      "metadata": {
        "colab": {
          "base_uri": "https://localhost:8080/"
        },
        "id": "G8_DPlRPfJhL",
        "outputId": "397a7e28-c23b-4bd5-d15c-b97f9f1973e4"
      },
      "outputs": [
        {
          "output_type": "stream",
          "name": "stderr",
          "text": [
            "[========================================================================] 100%"
          ]
        }
      ],
      "source": [
        "distance_intra_alea = []\n",
        "\n",
        "bar = progressbar.ProgressBar(maxval=datasetSize, \\\n",
        "    widgets=[progressbar.Bar('=', '[', ']'), ' ', progressbar.Percentage()])\n",
        "bar.start()\n",
        "\n",
        "for y in range(30):\n",
        "    \n",
        "    for i in range(10):\n",
        "        new_choice = []\n",
        "        for z in range(10):\n",
        "            new_choice.append( random.choice(range(len(np.unique(user[\"movieId\"])) )) )\n",
        "        distance_intra_alea.append(rel_proximity(new_choice))\n",
        "        \n",
        "    bar.update(y+1)"
      ]
    },
    {
      "cell_type": "code",
      "execution_count": 18,
      "metadata": {
        "colab": {
          "base_uri": "https://localhost:8080/"
        },
        "id": "Vy2cUGAsfJhM",
        "outputId": "379286a9-34f7-4edd-fc02-435ded3851b4"
      },
      "outputs": [
        {
          "output_type": "stream",
          "name": "stdout",
          "text": [
            "number of movie seen 0 :\n",
            "Ttest_indResult(statistic=4.17199901195073, pvalue=0.00010230769269630922)\n",
            "number of movie seen 1 :\n",
            "Ttest_indResult(statistic=6.293777139079638, pvalue=4.4465453545000537e-08)\n",
            "number of movie seen 2 :\n",
            "Ttest_indResult(statistic=7.462348009775603, pvalue=4.89694167878957e-10)\n",
            "number of movie seen 3 :\n",
            "Ttest_indResult(statistic=8.261534750598166, pvalue=2.2354597708019497e-11)\n",
            "number of movie seen 4 :\n",
            "Ttest_indResult(statistic=9.73278574605006, pvalue=8.386686189149191e-14)\n",
            "number of movie seen 5 :\n",
            "Ttest_indResult(statistic=10.086583356052406, pvalue=2.2529978154797333e-14)\n",
            "number of movie seen 6 :\n",
            "Ttest_indResult(statistic=10.35818348312429, pvalue=8.288506702913971e-15)\n",
            "number of movie seen 7 :\n",
            "Ttest_indResult(statistic=9.915846912590505, pvalue=4.241604617884717e-14)\n",
            "number of movie seen 8 :\n",
            "Ttest_indResult(statistic=10.956993367339598, pvalue=9.414563173068525e-16)\n",
            "number of movie seen 9 :\n",
            "Ttest_indResult(statistic=10.926850424014775, pvalue=1.0493434991411194e-15)\n"
          ]
        }
      ],
      "source": [
        "from scipy.stats import ttest_ind\n",
        "distance_reco = np.array(distance_reco)\n",
        "distance_noreco = np.array(distance_noreco)\n",
        "for i in range(10) :\n",
        "    print(\"number of movie seen {} :\".format(i))\n",
        "    print(ttest_ind(distance_reco[:,i], distance_noreco[:,i]))\n"
      ]
    },
    {
      "cell_type": "code",
      "execution_count": 19,
      "metadata": {
        "colab": {
          "base_uri": "https://localhost:8080/"
        },
        "id": "EwUdF1XbfJhM",
        "outputId": "fa0de2a3-3bde-4bba-e5a5-d9908d11cba4"
      },
      "outputs": [
        {
          "output_type": "stream",
          "name": "stdout",
          "text": [
            "test répartition des distances intra groupes de recommandations\n",
            "Ttest_indResult(statistic=-38.56151782704477, pvalue=2.558817991695348e-164)\n"
          ]
        }
      ],
      "source": [
        "print(\"test répartition des distances intra groupes de recommandations\")\n",
        "print(ttest_ind(distance_intra_alea, distance_intra_reco))\n"
      ]
    }
  ],
  "metadata": {
    "colab": {
      "collapsed_sections": [],
      "name": "CalculDiversityOverTime_Optimized_recommandationGAN.ipynb",
      "provenance": [],
      "include_colab_link": true
    },
    "hide_input": false,
    "kernelspec": {
      "display_name": "Python 3 (ipykernel)",
      "language": "python",
      "name": "python3"
    },
    "language_info": {
      "codemirror_mode": {
        "name": "ipython",
        "version": 3
      },
      "file_extension": ".py",
      "mimetype": "text/x-python",
      "name": "python",
      "nbconvert_exporter": "python",
      "pygments_lexer": "ipython3",
      "version": "3.9.13"
    }
  },
  "nbformat": 4,
  "nbformat_minor": 0
}